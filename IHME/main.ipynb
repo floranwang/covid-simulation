{
 "cells": [
  {
   "cell_type": "code",
   "execution_count": 1,
   "metadata": {},
   "outputs": [],
   "source": [
    "import pandas as pd\n",
    "import numpy as np\n",
    "import matplotlib.pyplot as plt\n",
    "\n",
    "from src.curvefit.core.model import CurveModel\n",
    "from src.curvefit.core.functions import ln_gaussian_cdf\n",
    "from src.curvefit.core.functions import gaussian_cdf\n",
    "\n",
    "import sys\n",
    "import os\n",
    "\n",
    "import pathlib\n",
    "\n",
    "import math"
   ]
  },
  {
   "cell_type": "code",
   "execution_count": 4,
   "metadata": {},
   "outputs": [
    {
     "data": {
      "text/plain": [
       "3.059023205018258e-07"
      ]
     },
     "execution_count": 4,
     "metadata": {},
     "output_type": "execute_result"
    }
   ],
   "source": [
    "#Implement age standardization\n",
    "We use the average age pattern of COVID-19 mortality rates in 10-year age bands up to a\n",
    "terminal group 80+ based on data from Hubei, Italy, Republic of Korea, and the United States as a\n",
    "reference mortality rate by age mr\n",
    "a.\n",
    "np.exp(-15)"
   ]
  },
  {
   "cell_type": "code",
   "execution_count": 435,
   "metadata": {},
   "outputs": [],
   "source": [
    "#Importing data from all countries\n",
    "file = sorted(pathlib.Path('data').iterdir(), key=os.path.getmtime)[-1]\n",
    "df_all = pd.read_csv('data/'+file.name)\n",
    "df_all = df_all[['day','Country Name','Cumulative Deaths']]\n",
    "df_all.columns = ['date','group','cum_deaths']"
   ]
  },
  {
   "cell_type": "code",
   "execution_count": 436,
   "metadata": {},
   "outputs": [],
   "source": [
    "region = 'Jamaica'\n",
    "\n",
    "#If user specifies the name of a country we use the existing dataframe\n",
    "if region!=None:\n",
    "    df = df_all[df_all.group==region].copy()\n",
    "    df.date = pd.to_datetime(df.date, format='%Y-%m-%d', errors='ignore')\n",
    "#Otherwise, use the dataset uploaded by the user\n",
    "else:\n",
    "    df = user_df\n",
    "    df.columns = ['group','date','cum_deaths']\n",
    "    df.date = pd.to_datetime(df.date, format='%m/%d/%Y', errors='ignore')\n",
    "    \n",
    "df = df.sort_values('date')\n",
    "    \n",
    "df['intercept'] = 1.0\n",
    "\n",
    "df = df[df.cum_deaths>0]\n",
    "\n",
    "df['time'] = range(0,df.shape[0],1)"
   ]
  },
  {
   "cell_type": "code",
   "execution_count": 437,
   "metadata": {},
   "outputs": [],
   "source": [
    "#Reading population and intervention data from user input\n",
    "#df_pop = user_df_pop For now we will test with a sample data\n",
    "df_pop = pd.DataFrame({'Country':'Jamaica',\n",
    "                      'Population':46940000,\n",
    "                      'Intervention start date':'04/01/2020',\n",
    "                      'Intervention start date - 2':'04/15/2020',\n",
    "                      'Intervention start date - 3':'',\n",
    "                      'Age 0-9':5215555,\n",
    "                      'Age 10-19':5215555,\n",
    "                      'Age 20-29':5215555,\n",
    "                      'Age 30-39':5215560,\n",
    "                      'Age 40-49':5215555,\n",
    "                      'Age 50-59':5215555,\n",
    "                      'Age 60-69':5215555,\n",
    "                      'Age 70-79':5215555,\n",
    "                      'Age 80+':5215555},index=[0])\n",
    "\n",
    "df_pop['Intervention start date'] = pd.to_datetime(df_pop['Intervention start date'], format='%m/%d/%Y', errors='ignore')\n",
    "df_pop['Intervention start date - 2'] = pd.to_datetime(df_pop['Intervention start date - 2'], format='%m/%d/%Y', errors='ignore')\n",
    "df_pop['Intervention start date - 3'] = pd.to_datetime(df_pop['Intervention start date - 3'], format='%m/%d/%Y', errors='ignore')\n",
    "\n",
    "#For locations that have not implemented yet all measure we assume an extra week from the day of analysis until all measures\n",
    "#are implemented\n",
    "if df_pop['Intervention start date - 3'].values[0]=='':\n",
    "    df_pop['Intervention start date - 3'] = pd.to_datetime(\"today\") + pd.Timedelta('7 days')\n",
    "if df_pop['Intervention start date - 2'].values[0]=='':\n",
    "    df_pop['Intervention start date - 2'] = pd.to_datetime(\"today\") + pd.Timedelta('7 days')\n",
    "if df_pop['Intervention start date'].values[0]=='':\n",
    "    df_pop['Intervention start date'] = pd.to_datetime(\"today\") + pd.Timedelta('7 days')\n",
    "\n",
    "##AGE STANDARDIZATION\n",
    "#Data to be provided by IHME team - mortality rate per age band for Hubei, Italy, Republic of Korea, and the United States\n",
    "m = np.array([0.01,0.01,0.01,0.01,0.01,0.01,0.01,0.03,0.05])#We will start with an estimate\n",
    "m_country = m*df_pop.filter(regex='Age').values[0]\n",
    "m_i = (sum(m_country)/df_pop['Population']).values[0]\n",
    "m_country = np.outer((df.cum_deaths/df_pop['Population'].values[0]).values,m)/m_i\n",
    "m_country = np.matmul(m_country,df_pop.filter(regex='Age').values[0])/df_pop['Population'].values[0]\n",
    "df['death_rate'] = m_country#np.log(m_country)\n",
    "\n",
    "#Definition of the covariate\n",
    "df['social_distance'] = 1*np.abs(np.minimum((df.date - df_pop['Intervention start date'].values[0]).dt.days,np.zeros(df.shape[0]))) - \\\n",
    "        0.67*np.abs(np.minimum((df.date - df_pop['Intervention start date'].values[0]).dt.days,np.zeros(df.shape[0]))) + \\\n",
    "        0.67*np.abs(np.minimum((df.date - df_pop['Intervention start date - 2'].values[0]).dt.days,np.zeros(df.shape[0]))) - \\\n",
    "        0.334*np.abs(np.minimum((df.date - df_pop['Intervention start date - 2'].values[0]).dt.days,np.zeros(df.shape[0]))) + \\\n",
    "        0.334*np.abs(np.minimum((df.date - df_pop['Intervention start date - 3'].values[0]).dt.days,np.zeros(df.shape[0]))) \n",
    "        \n",
    "df['social_distance2'] = 1*np.abs(np.minimum((df.date - df_pop['Intervention start date'].values[0]).dt.days,np.zeros(df.shape[0]))) - \\\n",
    "        0.86*np.abs(np.minimum((df.date - df_pop['Intervention start date'].values[0]).dt.days,np.zeros(df.shape[0]))) + \\\n",
    "        0.86*np.abs(np.minimum((df.date - df_pop['Intervention start date - 2'].values[0]).dt.days,np.zeros(df.shape[0]))) - \\\n",
    "        0.57*np.abs(np.minimum((df.date - df_pop['Intervention start date - 2'].values[0]).dt.days,np.zeros(df.shape[0]))) + \\\n",
    "        0.57*np.abs(np.minimum((df.date - df_pop['Intervention start date - 3'].values[0]).dt.days,np.zeros(df.shape[0]))) \n",
    "        \n",
    "df['social_distance3'] = np.abs(np.minimum((df.date - df_pop['Intervention start date - 3'].values[0]).dt.days,np.zeros(df.shape[0]))) \n"
   ]
  },
  {
   "cell_type": "code",
   "execution_count": 438,
   "metadata": {},
   "outputs": [],
   "source": [
    "#Defining beta init\n",
    "df['diff'] = df.cum_deaths - df.cum_deaths.shift(+1)\n",
    "t_infl = df[df['diff']==np.max(df['diff'])].time.values[0]\n",
    "beta_init = t_infl if t_infl >=20 else 20\n",
    "beta_init = beta_init/np.mean(df.social_distance)\n",
    "beta_init = 1/beta_init\n",
    "\n",
    "# #c init\n",
    "# c_init = (beta_init/2)/np.mean(df.social_distance)\n",
    "\n",
    "#Alpha init\n",
    "df['diff'] = df.death_rate - df.death_rate.shift(+1)\n",
    "alpha_init = math.log(2.0)/20#np.mean(df['diff'])\n",
    "\n",
    "#p init\n",
    "p_init = np.log(np.max(df.death_rate)) if np.max(df.death_rate) > 0.1 else math.log(0.1)\n",
    "\n",
    "#fe_init   = [alpha_init, beta_init, p_init]#c_init,\n",
    "fe_init   = [0, 0, np.log(0.1)]#c_init,\n",
    "num_fe = len(fe_init)\n",
    "\n",
    "#df['time'] = np.array(range(df.shape[0])) * beta_init / (df.shape[0]-1)"
   ]
  },
  {
   "cell_type": "code",
   "execution_count": 439,
   "metadata": {},
   "outputs": [],
   "source": [
    "# Set up the CurveModel\n",
    "model = CurveModel(\n",
    "    df=df,\n",
    "    col_t='time',\n",
    "    col_obs='death_rate',\n",
    "    col_group='group',\n",
    "    col_covs=[ ['intercept'], ['social_distance'], ['intercept'] ],\n",
    "    param_names=['alpha', 'beta', 'p'],\n",
    "    link_fun=[lambda x: np.exp(x), lambda x: x, lambda x: np.exp(x)],\n",
    "    var_link_fun=[lambda x: x, lambda x: x, lambda x: x],\n",
    "    fun=gaussian_cdf\n",
    ")\n",
    "\n",
    "# Fit the model to estimate parameters\n",
    "n_group = df.group.nunique()\n",
    "num_re = n_group*3\n",
    "\n",
    "re_init   = np.zeros( num_re )\n",
    "fe_bounds = [ [-np.inf, np.inf] ] * num_fe\n",
    "re_bounds = [ [-np.inf, np.inf] ] * num_fe\n",
    "\n",
    "#Should be defined using data from\n",
    "fe_gprior = [\n",
    "    [ 0,      np.inf ],\n",
    "    [ 0,   np.inf ],\n",
    "    #[ c_init,   c_init   / 100 ],\n",
    "    [ np.log(0.1), np.inf ],\n",
    "]\n",
    "\n",
    "options={\n",
    "    'disp'    : 0,\n",
    "    'maxiter' : 200,\n",
    "    'ftol'    : 1e-15,\n",
    "    'gtol'    : 1e-15,\n",
    "}\n",
    "\n",
    "model.fit_params(fe_init, re_init)#, fe_gprior, options=options)#, fe_bounds, re_bounds)#, fe_gprior)"
   ]
  },
  {
   "cell_type": "code",
   "execution_count": 440,
   "metadata": {},
   "outputs": [],
   "source": [
    "df_out = pd.DataFrame({'time':df.time.tolist() + list(range(df.shape[0],60+df.shape[0],1))})\n",
    "#df_out = pd.DataFrame({'time':df.time.tolist() + list(np.array(range(df.shape[0]+60)) * beta_init / (df.shape[0]+60-1))})\n",
    "df_out['group'] = df.group.unique()[0]\n",
    "df_out['date'] = pd.date_range(start=df.date.unique()[0],periods=df_out.shape[0])"
   ]
  },
  {
   "cell_type": "code",
   "execution_count": 418,
   "metadata": {},
   "outputs": [
    {
     "data": {
      "text/plain": [
       "      fun: 0.24300473779873893\n",
       " hess_inv: <6x6 LbfgsInvHessProduct with dtype=float64>\n",
       "      jac: array([1.09080506e-06, 7.19262372e-07, 8.33276913e-07, 1.09080506e-06,\n",
       "       7.19262372e-07, 8.33276913e-07])\n",
       "  message: b'CONVERGENCE: NORM_OF_PROJECTED_GRADIENT_<=_PGTOL'\n",
       "     nfev: 87\n",
       "      nit: 70\n",
       "   status: 0\n",
       "  success: True\n",
       "        x: array([-1.96496662,  1.37773634, -8.79956032, -1.99962397,  0.36391667,\n",
       "       -6.49697523])"
      ]
     },
     "execution_count": 418,
     "metadata": {},
     "output_type": "execute_result"
    }
   ],
   "source": [
    "model.result"
   ]
  },
  {
   "cell_type": "code",
   "execution_count": 344,
   "metadata": {},
   "outputs": [],
   "source": [
    "a = np.exp(0.08946578 +0.02771878)\n",
    "b = (3.4601536+2.59475009)*56.084\n",
    "c = np.exp(-2.30258509-9.09992799)"
   ]
  },
  {
   "cell_type": "code",
   "execution_count": 349,
   "metadata": {},
   "outputs": [
    {
     "data": {
      "text/plain": [
       "48.53529038596491"
      ]
     },
     "execution_count": 349,
     "metadata": {},
     "output_type": "execute_result"
    }
   ],
   "source": [
    "0.8654035087719298*56.084"
   ]
  },
  {
   "cell_type": "code",
   "execution_count": 345,
   "metadata": {},
   "outputs": [
    {
     "name": "stdout",
     "output_type": "stream",
     "text": [
      "1.1243269163187577\n",
      "339.58321854996\n",
      "1.1167385016886601e-05\n"
     ]
    }
   ],
   "source": [
    "print(a)\n",
    "print(b)\n",
    "print(c)"
   ]
  },
  {
   "cell_type": "code",
   "execution_count": 348,
   "metadata": {},
   "outputs": [
    {
     "data": {
      "text/plain": [
       "5.5836925084433006e-06"
      ]
     },
     "execution_count": 348,
     "metadata": {},
     "output_type": "execute_result"
    }
   ],
   "source": [
    "c/2"
   ]
  },
  {
   "cell_type": "code",
   "execution_count": 343,
   "metadata": {},
   "outputs": [
    {
     "data": {
      "text/html": [
       "<div>\n",
       "<style scoped>\n",
       "    .dataframe tbody tr th:only-of-type {\n",
       "        vertical-align: middle;\n",
       "    }\n",
       "\n",
       "    .dataframe tbody tr th {\n",
       "        vertical-align: top;\n",
       "    }\n",
       "\n",
       "    .dataframe thead th {\n",
       "        text-align: right;\n",
       "    }\n",
       "</style>\n",
       "<table border=\"1\" class=\"dataframe\">\n",
       "  <thead>\n",
       "    <tr style=\"text-align: right;\">\n",
       "      <th></th>\n",
       "      <th>date</th>\n",
       "      <th>group</th>\n",
       "      <th>cum_deaths</th>\n",
       "      <th>intercept</th>\n",
       "      <th>time</th>\n",
       "      <th>death_rate</th>\n",
       "      <th>social_distance</th>\n",
       "      <th>social_distance2</th>\n",
       "      <th>social_distance3</th>\n",
       "      <th>diff</th>\n",
       "    </tr>\n",
       "  </thead>\n",
       "  <tbody>\n",
       "    <tr>\n",
       "      <th>13698</th>\n",
       "      <td>2020-03-04</td>\n",
       "      <td>Spain</td>\n",
       "      <td>1</td>\n",
       "      <td>1.0</td>\n",
       "      <td>0</td>\n",
       "      <td>-17.664381</td>\n",
       "      <td>56.084</td>\n",
       "      <td>71.96</td>\n",
       "      <td>98.0</td>\n",
       "      <td>NaN</td>\n",
       "    </tr>\n",
       "    <tr>\n",
       "      <th>13699</th>\n",
       "      <td>2020-03-05</td>\n",
       "      <td>Spain</td>\n",
       "      <td>3</td>\n",
       "      <td>1.0</td>\n",
       "      <td>1</td>\n",
       "      <td>-16.565768</td>\n",
       "      <td>55.084</td>\n",
       "      <td>70.96</td>\n",
       "      <td>97.0</td>\n",
       "      <td>1.098612</td>\n",
       "    </tr>\n",
       "    <tr>\n",
       "      <th>13700</th>\n",
       "      <td>2020-03-06</td>\n",
       "      <td>Spain</td>\n",
       "      <td>5</td>\n",
       "      <td>1.0</td>\n",
       "      <td>2</td>\n",
       "      <td>-16.054943</td>\n",
       "      <td>54.084</td>\n",
       "      <td>69.96</td>\n",
       "      <td>96.0</td>\n",
       "      <td>0.510826</td>\n",
       "    </tr>\n",
       "    <tr>\n",
       "      <th>13701</th>\n",
       "      <td>2020-03-07</td>\n",
       "      <td>Spain</td>\n",
       "      <td>5</td>\n",
       "      <td>1.0</td>\n",
       "      <td>3</td>\n",
       "      <td>-16.054943</td>\n",
       "      <td>53.084</td>\n",
       "      <td>68.96</td>\n",
       "      <td>95.0</td>\n",
       "      <td>0.000000</td>\n",
       "    </tr>\n",
       "    <tr>\n",
       "      <th>13702</th>\n",
       "      <td>2020-03-08</td>\n",
       "      <td>Spain</td>\n",
       "      <td>10</td>\n",
       "      <td>1.0</td>\n",
       "      <td>4</td>\n",
       "      <td>-15.361796</td>\n",
       "      <td>52.084</td>\n",
       "      <td>67.96</td>\n",
       "      <td>94.0</td>\n",
       "      <td>0.693147</td>\n",
       "    </tr>\n",
       "  </tbody>\n",
       "</table>\n",
       "</div>"
      ],
      "text/plain": [
       "            date  group  cum_deaths  intercept  time  death_rate  \\\n",
       "13698 2020-03-04  Spain           1        1.0     0  -17.664381   \n",
       "13699 2020-03-05  Spain           3        1.0     1  -16.565768   \n",
       "13700 2020-03-06  Spain           5        1.0     2  -16.054943   \n",
       "13701 2020-03-07  Spain           5        1.0     3  -16.054943   \n",
       "13702 2020-03-08  Spain          10        1.0     4  -15.361796   \n",
       "\n",
       "       social_distance  social_distance2  social_distance3      diff  \n",
       "13698           56.084             71.96              98.0       NaN  \n",
       "13699           55.084             70.96              97.0  1.098612  \n",
       "13700           54.084             69.96              96.0  0.510826  \n",
       "13701           53.084             68.96              95.0  0.000000  \n",
       "13702           52.084             67.96              94.0  0.693147  "
      ]
     },
     "execution_count": 343,
     "metadata": {},
     "output_type": "execute_result"
    }
   ],
   "source": [
    "df.head()"
   ]
  },
  {
   "cell_type": "code",
   "execution_count": 342,
   "metadata": {},
   "outputs": [
    {
     "data": {
      "text/plain": [
       "      fun: 40.925189774121726\n",
       " hess_inv: <6x6 LbfgsInvHessProduct with dtype=float64>\n",
       "      jac: array([-3.08865491e-18, -4.89519246e-18,  8.73889143e-20, -3.08865491e-18,\n",
       "       -4.89519246e-18,  8.73889143e-20])\n",
       "  message: b'CONVERGENCE: NORM_OF_PROJECTED_GRADIENT_<=_PGTOL'\n",
       "     nfev: 28\n",
       "      nit: 27\n",
       "   status: 0\n",
       "  success: True\n",
       "        x: array([  0.1491372 ,   5.62972141,  -2.30258509,  -0.30511843,\n",
       "         4.7643179 , -19.20723391])"
      ]
     },
     "execution_count": 342,
     "metadata": {},
     "output_type": "execute_result"
    }
   ],
   "source": [
    "model.result"
   ]
  },
  {
   "cell_type": "code",
   "execution_count": 331,
   "metadata": {},
   "outputs": [
    {
     "data": {
      "text/plain": [
       "0.10000000029940456"
      ]
     },
     "execution_count": 331,
     "metadata": {},
     "output_type": "execute_result"
    }
   ],
   "source": [
    "np.exp(-2.30258509)"
   ]
  },
  {
   "cell_type": "code",
   "execution_count": 419,
   "metadata": {},
   "outputs": [
    {
     "data": {
      "text/plain": [
       "0      1.0\n",
       "1      1.0\n",
       "2      1.0\n",
       "3      1.0\n",
       "4      1.0\n",
       "      ... \n",
       "116    1.0\n",
       "117    1.0\n",
       "118    1.0\n",
       "119    1.0\n",
       "120    1.0\n",
       "Name: time, Length: 121, dtype: float64"
      ]
     },
     "execution_count": 419,
     "metadata": {},
     "output_type": "execute_result"
    }
   ],
   "source": [
    "y_pred = model.predict(\n",
    "    t=df_out.time,\n",
    "    group_name=df_out['group'].unique()\n",
    ")\n",
    "np.exp(y_pred)"
   ]
  },
  {
   "cell_type": "code",
   "execution_count": 441,
   "metadata": {},
   "outputs": [
    {
     "data": {
      "text/plain": [
       "Text(0,0.5,'Death Rate - Deaths per capita')"
      ]
     },
     "execution_count": 441,
     "metadata": {},
     "output_type": "execute_result"
    },
    {
     "data": {
      "image/png": "[encoded data removed]",
      "text/plain": [
       "<Figure size 1440x720 with 1 Axes>"
      ]
     },
     "metadata": {
      "needs_background": "light"
     },
     "output_type": "display_data"
    }
   ],
   "source": [
    "# Get predictions\n",
    "y_pred = model.predict(\n",
    "    t=df_out.time,\n",
    "    group_name=df_out['group'].unique()\n",
    ")\n",
    "\n",
    "# Plot results - Death rate\n",
    "plt.figure(figsize=(20,10))\n",
    "plt.plot(df_out.date, np.exp(y_pred), '-')\n",
    "plt.plot(df.date, np.exp(df.death_rate), '.')\n",
    "\n",
    "plt.xlabel(\"Date\")\n",
    "plt.ylabel(\"Death Rate - Deaths per capita\")"
   ]
  },
  {
   "cell_type": "code",
   "execution_count": 355,
   "metadata": {},
   "outputs": [
    {
     "data": {
      "text/plain": [
       "Text(0,0.5,'Death Rate - Deaths per capita')"
      ]
     },
     "execution_count": 355,
     "metadata": {},
     "output_type": "execute_result"
    },
    {
     "data": {
      "image/png": "[encoded data removed]",
      "text/plain": [
       "<Figure size 1440x720 with 1 Axes>"
      ]
     },
     "metadata": {
      "needs_background": "light"
     },
     "output_type": "display_data"
    }
   ],
   "source": [
    "# Get predictions\n",
    "y_pred = model.predict(\n",
    "    t=df_out.time,\n",
    "    group_name=df_out['group'].unique()\n",
    ")\n",
    "\n",
    "# Plot results - Death rate\n",
    "plt.figure(figsize=(20,10))\n",
    "plt.plot(df_out.date, y_pred, '-')\n",
    "plt.plot(df.date, df.death_rate, '.')\n",
    "\n",
    "plt.xlabel(\"Date\")\n",
    "plt.ylabel(\"Death Rate - Deaths per capita\")"
   ]
  },
  {
   "cell_type": "code",
   "execution_count": 356,
   "metadata": {},
   "outputs": [
    {
     "data": {
      "text/plain": [
       "Text(0,0.5,'Death cases')"
      ]
     },
     "execution_count": 356,
     "metadata": {},
     "output_type": "execute_result"
    },
    {
     "data": {
      "image/png": "[encoded data removed]",
      "text/plain": [
       "<Figure size 1440x720 with 1 Axes>"
      ]
     },
     "metadata": {
      "needs_background": "light"
     },
     "output_type": "display_data"
    }
   ],
   "source": [
    "# Plot results - Death cases\n",
    "\n",
    "\n",
    "plt.plot(df_out.date, y_pred*df_pop['Population'].values[0], '-')\n",
    "plt.plot(df.date, df.death_rate*df_pop['Population'].values[0], '.')\n",
    "\n",
    "plt.xlabel(\"Date\")\n",
    "plt.ylabel(\"Death cases\")"
   ]
  },
  {
   "cell_type": "code",
   "execution_count": 198,
   "metadata": {},
   "outputs": [
    {
     "data": {
      "text/html": [
       "<div>\n",
       "<style scoped>\n",
       "    .dataframe tbody tr th:only-of-type {\n",
       "        vertical-align: middle;\n",
       "    }\n",
       "\n",
       "    .dataframe tbody tr th {\n",
       "        vertical-align: top;\n",
       "    }\n",
       "\n",
       "    .dataframe thead th {\n",
       "        text-align: right;\n",
       "    }\n",
       "</style>\n",
       "<table border=\"1\" class=\"dataframe\">\n",
       "  <thead>\n",
       "    <tr style=\"text-align: right;\">\n",
       "      <th></th>\n",
       "      <th>date</th>\n",
       "      <th>group</th>\n",
       "      <th>cum_deaths</th>\n",
       "      <th>intercept</th>\n",
       "      <th>time</th>\n",
       "      <th>death_rate</th>\n",
       "      <th>social_distance</th>\n",
       "      <th>social_distance2</th>\n",
       "      <th>social_distance3</th>\n",
       "      <th>diff</th>\n",
       "    </tr>\n",
       "  </thead>\n",
       "  <tbody>\n",
       "    <tr>\n",
       "      <th>13698</th>\n",
       "      <td>2020-03-04</td>\n",
       "      <td>Spain</td>\n",
       "      <td>1</td>\n",
       "      <td>1.0</td>\n",
       "      <td>0</td>\n",
       "      <td>3.407155e-07</td>\n",
       "      <td>56.084</td>\n",
       "      <td>71.96</td>\n",
       "      <td>98.0</td>\n",
       "      <td>NaN</td>\n",
       "    </tr>\n",
       "    <tr>\n",
       "      <th>13699</th>\n",
       "      <td>2020-03-05</td>\n",
       "      <td>Spain</td>\n",
       "      <td>3</td>\n",
       "      <td>1.0</td>\n",
       "      <td>1</td>\n",
       "      <td>1.022147e-06</td>\n",
       "      <td>55.084</td>\n",
       "      <td>70.96</td>\n",
       "      <td>97.0</td>\n",
       "      <td>6.814310e-07</td>\n",
       "    </tr>\n",
       "    <tr>\n",
       "      <th>13700</th>\n",
       "      <td>2020-03-06</td>\n",
       "      <td>Spain</td>\n",
       "      <td>5</td>\n",
       "      <td>1.0</td>\n",
       "      <td>2</td>\n",
       "      <td>1.703578e-06</td>\n",
       "      <td>54.084</td>\n",
       "      <td>69.96</td>\n",
       "      <td>96.0</td>\n",
       "      <td>6.814310e-07</td>\n",
       "    </tr>\n",
       "    <tr>\n",
       "      <th>13701</th>\n",
       "      <td>2020-03-07</td>\n",
       "      <td>Spain</td>\n",
       "      <td>5</td>\n",
       "      <td>1.0</td>\n",
       "      <td>3</td>\n",
       "      <td>1.703578e-06</td>\n",
       "      <td>53.084</td>\n",
       "      <td>68.96</td>\n",
       "      <td>95.0</td>\n",
       "      <td>0.000000e+00</td>\n",
       "    </tr>\n",
       "    <tr>\n",
       "      <th>13702</th>\n",
       "      <td>2020-03-08</td>\n",
       "      <td>Spain</td>\n",
       "      <td>10</td>\n",
       "      <td>1.0</td>\n",
       "      <td>4</td>\n",
       "      <td>3.407155e-06</td>\n",
       "      <td>52.084</td>\n",
       "      <td>67.96</td>\n",
       "      <td>94.0</td>\n",
       "      <td>1.703578e-06</td>\n",
       "    </tr>\n",
       "    <tr>\n",
       "      <th>...</th>\n",
       "      <td>...</td>\n",
       "      <td>...</td>\n",
       "      <td>...</td>\n",
       "      <td>...</td>\n",
       "      <td>...</td>\n",
       "      <td>...</td>\n",
       "      <td>...</td>\n",
       "      <td>...</td>\n",
       "      <td>...</td>\n",
       "      <td>...</td>\n",
       "    </tr>\n",
       "    <tr>\n",
       "      <th>13769</th>\n",
       "      <td>2020-05-14</td>\n",
       "      <td>Spain</td>\n",
       "      <td>27104</td>\n",
       "      <td>1.0</td>\n",
       "      <td>71</td>\n",
       "      <td>9.234753e-03</td>\n",
       "      <td>9.018</td>\n",
       "      <td>15.39</td>\n",
       "      <td>27.0</td>\n",
       "      <td>6.269165e-05</td>\n",
       "    </tr>\n",
       "    <tr>\n",
       "      <th>13770</th>\n",
       "      <td>2020-05-15</td>\n",
       "      <td>Spain</td>\n",
       "      <td>27321</td>\n",
       "      <td>1.0</td>\n",
       "      <td>72</td>\n",
       "      <td>9.308688e-03</td>\n",
       "      <td>8.684</td>\n",
       "      <td>14.82</td>\n",
       "      <td>26.0</td>\n",
       "      <td>7.393526e-05</td>\n",
       "    </tr>\n",
       "    <tr>\n",
       "      <th>13771</th>\n",
       "      <td>2020-05-16</td>\n",
       "      <td>Spain</td>\n",
       "      <td>27459</td>\n",
       "      <td>1.0</td>\n",
       "      <td>73</td>\n",
       "      <td>9.355707e-03</td>\n",
       "      <td>8.350</td>\n",
       "      <td>14.25</td>\n",
       "      <td>25.0</td>\n",
       "      <td>4.701874e-05</td>\n",
       "    </tr>\n",
       "    <tr>\n",
       "      <th>13772</th>\n",
       "      <td>2020-05-17</td>\n",
       "      <td>Spain</td>\n",
       "      <td>27563</td>\n",
       "      <td>1.0</td>\n",
       "      <td>74</td>\n",
       "      <td>9.391141e-03</td>\n",
       "      <td>8.016</td>\n",
       "      <td>13.68</td>\n",
       "      <td>24.0</td>\n",
       "      <td>3.543441e-05</td>\n",
       "    </tr>\n",
       "    <tr>\n",
       "      <th>13773</th>\n",
       "      <td>2020-05-18</td>\n",
       "      <td>Spain</td>\n",
       "      <td>27650</td>\n",
       "      <td>1.0</td>\n",
       "      <td>75</td>\n",
       "      <td>9.420784e-03</td>\n",
       "      <td>7.682</td>\n",
       "      <td>13.11</td>\n",
       "      <td>23.0</td>\n",
       "      <td>2.964225e-05</td>\n",
       "    </tr>\n",
       "  </tbody>\n",
       "</table>\n",
       "<p>76 rows × 10 columns</p>\n",
       "</div>"
      ],
      "text/plain": [
       "            date  group  cum_deaths  intercept  time    death_rate  \\\n",
       "13698 2020-03-04  Spain           1        1.0     0  3.407155e-07   \n",
       "13699 2020-03-05  Spain           3        1.0     1  1.022147e-06   \n",
       "13700 2020-03-06  Spain           5        1.0     2  1.703578e-06   \n",
       "13701 2020-03-07  Spain           5        1.0     3  1.703578e-06   \n",
       "13702 2020-03-08  Spain          10        1.0     4  3.407155e-06   \n",
       "...          ...    ...         ...        ...   ...           ...   \n",
       "13769 2020-05-14  Spain       27104        1.0    71  9.234753e-03   \n",
       "13770 2020-05-15  Spain       27321        1.0    72  9.308688e-03   \n",
       "13771 2020-05-16  Spain       27459        1.0    73  9.355707e-03   \n",
       "13772 2020-05-17  Spain       27563        1.0    74  9.391141e-03   \n",
       "13773 2020-05-18  Spain       27650        1.0    75  9.420784e-03   \n",
       "\n",
       "       social_distance  social_distance2  social_distance3          diff  \n",
       "13698           56.084             71.96              98.0           NaN  \n",
       "13699           55.084             70.96              97.0  6.814310e-07  \n",
       "13700           54.084             69.96              96.0  6.814310e-07  \n",
       "13701           53.084             68.96              95.0  0.000000e+00  \n",
       "13702           52.084             67.96              94.0  1.703578e-06  \n",
       "...                ...               ...               ...           ...  \n",
       "13769            9.018             15.39              27.0  6.269165e-05  \n",
       "13770            8.684             14.82              26.0  7.393526e-05  \n",
       "13771            8.350             14.25              25.0  4.701874e-05  \n",
       "13772            8.016             13.68              24.0  3.543441e-05  \n",
       "13773            7.682             13.11              23.0  2.964225e-05  \n",
       "\n",
       "[76 rows x 10 columns]"
      ]
     },
     "execution_count": 198,
     "metadata": {},
     "output_type": "execute_result"
    }
   ],
   "source": [
    "df"
   ]
  },
  {
   "cell_type": "code",
   "execution_count": 199,
   "metadata": {},
   "outputs": [
    {
     "data": {
      "text/plain": [
       "27650.00104"
      ]
     },
     "execution_count": 199,
     "metadata": {},
     "output_type": "execute_result"
    }
   ],
   "source": [
    "df_pop['Population'].values[0]*9.420784e-03\t"
   ]
  },
  {
   "cell_type": "code",
   "execution_count": null,
   "metadata": {},
   "outputs": [],
   "source": [
    "#Number of deaths = critical rate * fatality rate * population confirmed positive\n",
    "{\n",
    "  \"all\": [\n",
    "    {\n",
    "      \"data\": [\n",
    "        {\n",
    "          \"ageGroup\": \"0-9\",\n",
    "          \"isolated\": 0.0,\n",
    "          \"confirmed\": 5.0,\n",
    "          \"severe\": 1.0,\n",
    "          \"critical\": 5,\n",
    "          \"fatal\": 30\n",
    "        },\n",
    "        {\n",
    "          \"ageGroup\": \"10-19\",\n",
    "          \"isolated\": 0.0,\n",
    "          \"confirmed\": 5.0,\n",
    "          \"severe\": 3.0,\n",
    "          \"critical\": 10,\n",
    "          \"fatal\": 30\n",
    "        },\n",
    "        {\n",
    "          \"ageGroup\": \"20-29\",\n",
    "          \"isolated\": 0.0,\n",
    "          \"confirmed\": 10.0,\n",
    "          \"severe\": 3.0,\n",
    "          \"critical\": 10,\n",
    "          \"fatal\": 30\n",
    "        },\n",
    "        {\n",
    "          \"ageGroup\": \"30-39\",\n",
    "          \"isolated\": 0.0,\n",
    "          \"confirmed\": 15.0,\n",
    "          \"severe\": 3.0,\n",
    "          \"critical\": 15,\n",
    "          \"fatal\": 30\n",
    "        },\n",
    "        {\n",
    "          \"ageGroup\": \"40-49\",\n",
    "          \"isolated\": 0.0,\n",
    "          \"confirmed\": 20.0,\n",
    "          \"severe\": 6.0,\n",
    "          \"critical\": 20,\n",
    "          \"fatal\": 30\n",
    "        },\n",
    "        {\n",
    "          \"ageGroup\": \"50-59\",\n",
    "          \"isolated\": 0.0,\n",
    "          \"confirmed\": 25.0,\n",
    "          \"severe\": 10.0,\n",
    "          \"critical\": 25,\n",
    "          \"fatal\": 40\n",
    "        },\n",
    "        {\n",
    "          \"ageGroup\": \"60-69\",\n",
    "          \"isolated\": 0.0,\n",
    "          \"confirmed\": 30.0,\n",
    "          \"severe\": 25.0,\n",
    "          \"critical\": 35,\n",
    "          \"fatal\": 40\n",
    "        },\n",
    "        {\n",
    "          \"ageGroup\": \"70-79\",\n",
    "          \"isolated\": 0.0,\n",
    "          \"confirmed\": 40.0,\n",
    "          \"severe\": 35.0,\n",
    "          \"critical\": 45,\n",
    "          \"fatal\": 50\n",
    "        },\n",
    "        {\n",
    "          \"ageGroup\": \"80+\",\n",
    "          \"isolated\": 0.0,\n",
    "          \"confirmed\": 50.0,\n",
    "          \"severe\": 50.0,\n",
    "          \"critical\": 55,\n",
    "          \"fatal\": 50\n",
    "        }\n",
    "      ],\n",
    "      \"name\": \"China CDC\"\n",
    "    }\n",
    "  ]\n",
    "}"
   ]
  },
  {
   "cell_type": "code",
   "execution_count": 434,
   "metadata": {},
   "outputs": [
    {
     "data": {
      "text/plain": [
       "Text(0,0.5,'Cumulative Deaths')"
      ]
     },
     "execution_count": 434,
     "metadata": {},
     "output_type": "execute_result"
    },
    {
     "data": {
      "image/png": "[encoded data removed]",
      "text/plain": [
       "<Figure size 1440x720 with 1 Axes>"
      ]
     },
     "metadata": {
      "needs_background": "light"
     },
     "output_type": "display_data"
    }
   ],
   "source": [
    "import pandas as pd\n",
    "import numpy as np\n",
    "import matplotlib.pyplot as plt\n",
    "\n",
    "from src.curvefit.core.model import CurveModel\n",
    "from src.curvefit.core.functions import ln_gaussian_cdf\n",
    "from src.curvefit.core.functions import gaussian_cdf\n",
    "\n",
    "import sys\n",
    "import os\n",
    "\n",
    "import pathlib\n",
    "\n",
    "#Importing data from all countries\n",
    "file = sorted(pathlib.Path('data').iterdir(), key=os.path.getmtime)[-1]\n",
    "df_all = pd.read_csv('data/'+file.name)\n",
    "df_all = df_all[['day','Country Name','Cumulative Deaths']]\n",
    "df_all.columns = ['date','group','cum_deaths']\n",
    "\n",
    "region = 'Jamaica'\n",
    "\n",
    "#If user specifies the name of a country we use the existing dataframe\n",
    "if region!=None:\n",
    "    df = df_all[df_all.group==region].copy()\n",
    "    df.date = pd.to_datetime(df.date, format='%Y-%m-%d', errors='ignore')\n",
    "#Otherwise, use the dataset uploaded by the user\n",
    "else:\n",
    "    df = user_df\n",
    "    df.columns = ['group','date','cum_deaths']\n",
    "    df.date = pd.to_datetime(df.date, format='%Y/%m/%d', errors='ignore')\n",
    "    \n",
    "df = df.sort_values('date')\n",
    "df['time'] = range(1,df.shape[0]+1,1)\n",
    "    \n",
    "df['intercept'] = 1.0\n",
    "\n",
    "# Set up the CurveModel\n",
    "model = CurveModel(\n",
    "    df=df,\n",
    "    col_t='time',\n",
    "    col_obs='cum_deaths',\n",
    "    col_group='group',\n",
    "    col_covs=[['intercept'], ['intercept'], ['intercept']],\n",
    "    param_names=['alpha', 'beta', 'p'],\n",
    "    link_fun=[lambda x: x, lambda x: x, lambda x: x],\n",
    "    var_link_fun=[lambda x: x, lambda x: x, lambda x: x],\n",
    "    fun=gaussian_cdf\n",
    ")\n",
    "\n",
    "# Fit the model to estimate parameters\n",
    "model.fit_params(fe_init=[0, 0, 1.],\n",
    "                 fe_gprior=[[0, np.inf], [0, np.inf], [1., np.inf]])\n",
    "\n",
    "df_out = pd.DataFrame({'time':df.time.tolist() + list(range(df.shape[0],60+df.shape[0],1))})\n",
    "df_out['group'] = df.group.unique()[0]\n",
    "df_out['date'] = pd.date_range(start=df.date.unique()[0],periods=df_out.shape[0])\n",
    "\n",
    "# Get predictions\n",
    "y_pred = model.predict(\n",
    "    t=df_out.time,\n",
    "    group_name=df_out['group'].unique()\n",
    ")\n",
    "\n",
    "# Plot results\n",
    "plt.figure(figsize=(20,10))\n",
    "plt.plot(df_out.date, y_pred, '-')\n",
    "plt.plot(df.date, df.cum_deaths, '.')\n",
    "\n",
    "plt.xlabel(\"Date\")\n",
    "plt.ylabel(\"Cumulative Deaths\")"
   ]
  },
  {
   "cell_type": "code",
   "execution_count": 442,
   "metadata": {},
   "outputs": [
    {
     "data": {
      "text/plain": [
       "Text(0,0.5,'Cumulative Deaths')"
      ]
     },
     "execution_count": 442,
     "metadata": {},
     "output_type": "execute_result"
    },
    {
     "data": {
      "image/png": "[encoded data removed]",
      "text/plain": [
       "<Figure size 1440x720 with 1 Axes>"
      ]
     },
     "metadata": {
      "needs_background": "light"
     },
     "output_type": "display_data"
    }
   ],
   "source": [
    "import pandas as pd\n",
    "import numpy as np\n",
    "import matplotlib.pyplot as plt\n",
    "\n",
    "from src.curvefit.core.model import CurveModel\n",
    "from src.curvefit.core.functions import ln_gaussian_cdf\n",
    "from src.curvefit.core.functions import gaussian_cdf\n",
    "\n",
    "import sys\n",
    "import os\n",
    "\n",
    "import pathlib\n",
    "\n",
    "#Importing data from all countries\n",
    "file = sorted(pathlib.Path('data').iterdir(), key=os.path.getmtime)[-1]\n",
    "df_all = pd.read_csv('data/'+file.name)\n",
    "df_all = df_all[['day','Country Name','Cumulative Deaths']]\n",
    "df_all.columns = ['date','group','cum_deaths']\n",
    "\n",
    "region = 'Spain'\n",
    "\n",
    "#If user specifies the name of a country we use the existing dataframe\n",
    "if region!=None:\n",
    "    df = df_all[df_all.group==region].copy()\n",
    "    df.date = pd.to_datetime(df.date, format='%Y-%m-%d', errors='ignore')\n",
    "#Otherwise, use the dataset uploaded by the user\n",
    "else:\n",
    "    df = user_df\n",
    "    df.columns = ['group','date','cum_deaths']\n",
    "    df.date = pd.to_datetime(df.date, format='%Y/%m/%d', errors='ignore')\n",
    "    \n",
    "df = df.sort_values('date')\n",
    "df['time'] = range(1,df.shape[0]+1,1)\n",
    "    \n",
    "df['intercept'] = 1.0\n",
    "\n",
    "# Set up the CurveModel\n",
    "model = CurveModel(\n",
    "    df=df,\n",
    "    col_t='time',\n",
    "    col_obs='cum_deaths',\n",
    "    col_group='group',\n",
    "    col_covs=[['intercept'], ['intercept'], ['intercept']],\n",
    "    param_names=['alpha', 'beta', 'p'],\n",
    "    link_fun=[lambda x: x, lambda x: x, lambda x: x],\n",
    "    var_link_fun=[lambda x: x, lambda x: x, lambda x: x],\n",
    "    fun=gaussian_cdf\n",
    ")\n",
    "\n",
    "# Fit the model to estimate parameters\n",
    "model.fit_params(fe_init=[0, 0, 1.],\n",
    "                 fe_gprior=[[0, np.inf], [0, np.inf], [1., np.inf]])\n",
    "\n",
    "df_out = pd.DataFrame({'time':df.time.tolist() + list(range(df.shape[0],60+df.shape[0],1))})\n",
    "df_out['group'] = df.group.unique()[0]\n",
    "df_out['date'] = pd.date_range(start=df.date.unique()[0],periods=df_out.shape[0])\n",
    "\n",
    "# Get predictions\n",
    "y_pred = model.predict(\n",
    "    t=df_out.time,\n",
    "    group_name=df_out['group'].unique()\n",
    ")\n",
    "\n",
    "# Plot results\n",
    "plt.figure(figsize=(20,10))\n",
    "plt.plot(df_out.date, y_pred, '-')\n",
    "plt.plot(df.date, df.cum_deaths, '.')\n",
    "\n",
    "plt.xlabel(\"Date\")\n",
    "plt.ylabel(\"Cumulative Deaths\")"
   ]
  }
 ],
 "metadata": {
  "kernelspec": {
   "display_name": "Python 3",
   "language": "python",
   "name": "python3"
  },
  "language_info": {
   "codemirror_mode": {
    "name": "ipython",
    "version": 3
   },
   "file_extension": ".py",
   "mimetype": "text/x-python",
   "name": "python",
   "nbconvert_exporter": "python",
   "pygments_lexer": "ipython3",
   "version": "3.6.6"
  }
 },
 "nbformat": 4,
 "nbformat_minor": 4
}
